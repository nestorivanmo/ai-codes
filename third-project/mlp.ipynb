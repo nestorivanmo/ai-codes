{
 "metadata": {
  "language_info": {
   "codemirror_mode": {
    "name": "ipython",
    "version": 3
   },
   "file_extension": ".py",
   "mimetype": "text/x-python",
   "name": "python",
   "nbconvert_exporter": "python",
   "pygments_lexer": "ipython3",
   "version": "3.8.5-final"
  },
  "orig_nbformat": 2,
  "kernelspec": {
   "name": "python3",
   "display_name": "Python 3",
   "language": "python"
  }
 },
 "nbformat": 4,
 "nbformat_minor": 2,
 "cells": [
  {
   "source": [
    "# Multilayer Perceptron - IA"
   ],
   "cell_type": "markdown",
   "metadata": {}
  },
  {
   "source": [
    "## Peceptron\n",
    "\n",
    "**Perceptron function**: $$o(x_1, x_2, \\ldots, x_n) = \\begin{cases}\n",
    "        1 & w_0 + w_1x_1 + \\ldots + w_nx_n > 0 \\\\ \n",
    "        -1 & eoc\n",
    "    \\end{cases}$$\n",
    "\n",
    "**Learning weights:** $$w_i = w_i + \\Delta w_i$$ $$\\Delta w_i = \\eta(t-o)x_i$$\n",
    "\n",
    "- $t$: target\n",
    "- $o$: current\n",
    "- $\\eta$: learning rate $\\in (0,1)$\n",
    "\n",
    "**Training data**: $$D = \\{(x_{1,1},x_{1,2},\\ldots,x_{1,n}, t_j|j=1,\\ldots,k\\}$$\n",
    "\n",
    "Weights can be learned by: $$w_i = w_i + \\eta(t_j-o)x_i$$"
   ],
   "cell_type": "markdown",
   "metadata": {}
  },
  {
   "source": [
    "## Multilayer Perceptron\n",
    "\n",
    "**Perceptron function**: Sigmoid $$o=\\sigma (\\text{net}) = \\frac{1}{1+e^{-\\text{net}}}$$\n",
    "\n",
    "**Net**: $$\\text{net} = \\sum_{i=0}^{n}w_ix_i$$\n",
    "\n",
    "La cardinalidad del vector de pesos $w_{ij}$ determina la cantidad de neuronas $y_n$"
   ],
   "cell_type": "markdown",
   "metadata": {}
  },
  {
   "cell_type": "code",
   "execution_count": null,
   "metadata": {},
   "outputs": [],
   "source": []
  }
 ]
}